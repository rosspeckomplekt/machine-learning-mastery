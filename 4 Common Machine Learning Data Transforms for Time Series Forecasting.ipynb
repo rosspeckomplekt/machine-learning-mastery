{
 "cells": [
  {
   "cell_type": "markdown",
   "metadata": {},
   "source": [
    "# Box-Cox transform"
   ]
  },
  {
   "cell_type": "code",
   "execution_count": 3,
   "metadata": {},
   "outputs": [
    {
     "name": "stdout",
     "output_type": "stream",
     "text": [
      "[1, 2, 3, 4, 5, 6, 7, 8, 9]\n",
      "[0.         0.89887536 1.67448353 2.37952145 3.03633818 3.65711928\n",
      " 4.2494518  4.81847233 5.36786648] 0.7200338588580095\n",
      "[1.0, 2.0, 2.9999999999999996, 3.999999999999999, 5.000000000000001, 6.000000000000001, 6.999999999999999, 7.999999999999998, 8.999999999999998]\n"
     ]
    }
   ],
   "source": [
    "from math import log\n",
    "from math import exp\n",
    "from scipy.stats import boxcox\n",
    "import matplotlib.pyplot as plt\n",
    " \n",
    "# invert a boxcox transform for one value\n",
    "def invert_boxcox(value, lam):\n",
    "    # log case\n",
    "    if lam == 0:\n",
    "        return exp(value)\n",
    "    # all other cases\n",
    "    return exp(log(lam * value + 1) / lam)\n",
    "\n",
    "# define dataset\n",
    "data = [x for x in range(1, 10)]\n",
    "print(data)\n",
    "\n",
    "# power transform\n",
    "transformed, lmbda = boxcox(data)\n",
    "print(transformed, lmbda)\n",
    "\n",
    "# invert transform\n",
    "inverted = [invert_boxcox(x, lmbda) for x in transformed]\n",
    "print(inverted)"
   ]
  },
  {
   "cell_type": "code",
   "execution_count": 4,
   "metadata": {},
   "outputs": [
    {
     "data": {
      "image/png": "[encoded data removed]",
      "text/plain": [
       "<Figure size 432x288 with 1 Axes>"
      ]
     },
     "metadata": {
      "needs_background": "light"
     },
     "output_type": "display_data"
    }
   ],
   "source": [
    "plt.plot(data)\n",
    "plt.plot(transformed);"
   ]
  },
  {
   "cell_type": "markdown",
   "metadata": {},
   "source": [
    "# Difference Transform"
   ]
  },
  {
   "cell_type": "code",
   "execution_count": 5,
   "metadata": {},
   "outputs": [
    {
     "name": "stdout",
     "output_type": "stream",
     "text": [
      "[1, 2, 3, 4, 5, 6, 7, 8, 9]\n",
      "[1, 1, 1, 1, 1, 1, 1, 1]\n",
      "[2, 3, 4, 5, 6, 7, 8, 9]\n"
     ]
    }
   ],
   "source": [
    "# difference dataset\n",
    "def difference(data, interval):\n",
    "    return [data[i] - data[i - interval] for i in range(interval, len(data))]\n",
    "\n",
    "# invert difference\n",
    "def invert_difference(orig_data, diff_data, interval):\n",
    "    return [diff_data[i-interval] + orig_data[i-interval] for i in range(interval, len(orig_data))]\n",
    "\n",
    "# define dataset\n",
    "data = [x for x in range(1, 10)]\n",
    "print(data)\n",
    "\n",
    "# difference transform\n",
    "transformed = difference(data, 1)\n",
    "print(transformed)\n",
    "\n",
    "# invert difference\n",
    "inverted = invert_difference(data, transformed, 1)\n",
    "print(inverted)"
   ]
  },
  {
   "cell_type": "markdown",
   "metadata": {},
   "source": [
    "# Standardization"
   ]
  },
  {
   "cell_type": "code",
   "execution_count": 6,
   "metadata": {},
   "outputs": [
    {
     "name": "stdout",
     "output_type": "stream",
     "text": [
      "[[1]\n",
      " [2]\n",
      " [3]\n",
      " [4]\n",
      " [5]\n",
      " [6]\n",
      " [7]\n",
      " [8]\n",
      " [9]]\n",
      "[[-1.54919334]\n",
      " [-1.161895  ]\n",
      " [-0.77459667]\n",
      " [-0.38729833]\n",
      " [ 0.        ]\n",
      " [ 0.38729833]\n",
      " [ 0.77459667]\n",
      " [ 1.161895  ]\n",
      " [ 1.54919334]]\n",
      "[[1.]\n",
      " [2.]\n",
      " [3.]\n",
      " [4.]\n",
      " [5.]\n",
      " [6.]\n",
      " [7.]\n",
      " [8.]\n",
      " [9.]]\n"
     ]
    },
    {
     "name": "stderr",
     "output_type": "stream",
     "text": [
      "C:\\Users\\Astra\\Anaconda3\\envs\\tf_gpu\\lib\\site-packages\\sklearn\\utils\\validation.py:595: DataConversionWarning: Data with input dtype int32 was converted to float64 by StandardScaler.\n",
      "  warnings.warn(msg, DataConversionWarning)\n",
      "C:\\Users\\Astra\\Anaconda3\\envs\\tf_gpu\\lib\\site-packages\\sklearn\\utils\\validation.py:595: DataConversionWarning: Data with input dtype int32 was converted to float64 by StandardScaler.\n",
      "  warnings.warn(msg, DataConversionWarning)\n"
     ]
    }
   ],
   "source": [
    "from sklearn.preprocessing import StandardScaler\n",
    "from numpy import array\n",
    "\n",
    "# define dataset\n",
    "data = [x for x in range(1, 10)]\n",
    "data = array(data).reshape(len(data), 1)\n",
    "print(data)\n",
    "\n",
    "# fit transform\n",
    "transformer = StandardScaler()\n",
    "transformer.fit(data)\n",
    "\n",
    "# difference transform\n",
    "transformed = transformer.transform(data)\n",
    "print(transformed)\n",
    "\n",
    "# invert difference\n",
    "inverted = transformer.inverse_transform(transformed)\n",
    "print(inverted)"
   ]
  },
  {
   "cell_type": "markdown",
   "metadata": {},
   "source": [
    "# Normalization"
   ]
  },
  {
   "cell_type": "code",
   "execution_count": 7,
   "metadata": {},
   "outputs": [
    {
     "name": "stdout",
     "output_type": "stream",
     "text": [
      "[[1]\n",
      " [2]\n",
      " [3]\n",
      " [4]\n",
      " [5]\n",
      " [6]\n",
      " [7]\n",
      " [8]\n",
      " [9]]\n",
      "[[0.   ]\n",
      " [0.125]\n",
      " [0.25 ]\n",
      " [0.375]\n",
      " [0.5  ]\n",
      " [0.625]\n",
      " [0.75 ]\n",
      " [0.875]\n",
      " [1.   ]]\n",
      "[[1.]\n",
      " [2.]\n",
      " [3.]\n",
      " [4.]\n",
      " [5.]\n",
      " [6.]\n",
      " [7.]\n",
      " [8.]\n",
      " [9.]]\n"
     ]
    },
    {
     "name": "stderr",
     "output_type": "stream",
     "text": [
      "C:\\Users\\Astra\\Anaconda3\\envs\\tf_gpu\\lib\\site-packages\\sklearn\\utils\\validation.py:595: DataConversionWarning: Data with input dtype int32 was converted to float64 by MinMaxScaler.\n",
      "  warnings.warn(msg, DataConversionWarning)\n"
     ]
    }
   ],
   "source": [
    "from sklearn.preprocessing import MinMaxScaler\n",
    "from numpy import array\n",
    "\n",
    "# define dataset\n",
    "data = [x for x in range(1, 10)]\n",
    "data = array(data).reshape(len(data), 1)\n",
    "print(data)\n",
    "\n",
    "# fit transform\n",
    "transformer = MinMaxScaler()\n",
    "transformer.fit(data)\n",
    "\n",
    "# difference transform\n",
    "transformed = transformer.transform(data)\n",
    "print(transformed)\n",
    "\n",
    "# invert difference\n",
    "inverted = transformer.inverse_transform(transformed)\n",
    "print(inverted)"
   ]
  },
  {
   "cell_type": "code",
   "execution_count": null,
   "metadata": {},
   "outputs": [],
   "source": []
  }
 ],
 "metadata": {
  "kernelspec": {
   "display_name": "Python 3",
   "language": "python",
   "name": "python3"
  },
  "language_info": {
   "codemirror_mode": {
    "name": "ipython",
    "version": 3
   },
   "file_extension": ".py",
   "mimetype": "text/x-python",
   "name": "python",
   "nbconvert_exporter": "python",
   "pygments_lexer": "ipython3",
   "version": "3.6.7"
  }
 },
 "nbformat": 4,
 "nbformat_minor": 2
}
