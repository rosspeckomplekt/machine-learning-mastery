{
 "cells": [
  {
   "cell_type": "markdown",
   "metadata": {},
   "source": [
    "# Autoregression Model (AR)"
   ]
  },
  {
   "cell_type": "code",
   "execution_count": 1,
   "metadata": {},
   "outputs": [
    {
     "name": "stdout",
     "output_type": "stream",
     "text": [
      ">predicted=9.738, expected=12.900\n",
      ">predicted=12.563, expected=14.600\n",
      ">predicted=14.219, expected=14.000\n",
      ">predicted=13.635, expected=13.600\n",
      ">predicted=13.245, expected=13.500\n",
      ">predicted=13.148, expected=15.700\n",
      ">predicted=15.292, expected=13.000\n",
      "Test RMSE: 1.928\n"
     ]
    },
    {
     "name": "stderr",
     "output_type": "stream",
     "text": [
      "C:\\Users\\Astra\\Anaconda3\\envs\\tf_gpu\\lib\\site-packages\\pandas\\core\\series.py:3727: FutureWarning: from_csv is deprecated. Please use read_csv(...) instead. Note that some of the default arguments are different, so please refer to the documentation for from_csv when changing your function calls\n",
      "  infer_datetime_format=infer_datetime_format)\n",
      "C:\\Users\\Astra\\Anaconda3\\envs\\tf_gpu\\lib\\site-packages\\scipy\\signal\\signaltools.py:1341: FutureWarning: Using a non-tuple sequence for multidimensional indexing is deprecated; use `arr[tuple(seq)]` instead of `arr[seq]`. In the future this will be interpreted as an array index, `arr[np.array(seq)]`, which will result either in an error or a different result.\n",
      "  out_full[ind] += zi\n",
      "C:\\Users\\Astra\\Anaconda3\\envs\\tf_gpu\\lib\\site-packages\\scipy\\signal\\signaltools.py:1344: FutureWarning: Using a non-tuple sequence for multidimensional indexing is deprecated; use `arr[tuple(seq)]` instead of `arr[seq]`. In the future this will be interpreted as an array index, `arr[np.array(seq)]`, which will result either in an error or a different result.\n",
      "  out = out_full[ind]\n",
      "C:\\Users\\Astra\\Anaconda3\\envs\\tf_gpu\\lib\\site-packages\\scipy\\signal\\signaltools.py:1350: FutureWarning: Using a non-tuple sequence for multidimensional indexing is deprecated; use `arr[tuple(seq)]` instead of `arr[seq]`. In the future this will be interpreted as an array index, `arr[np.array(seq)]`, which will result either in an error or a different result.\n",
      "  zf = out_full[ind]\n"
     ]
    }
   ],
   "source": [
    "from pandas import Series\n",
    "from matplotlib import pyplot\n",
    "from statsmodels.tsa.arima_model import ARIMA\n",
    "from sklearn.metrics import mean_squared_error\n",
    "from math import sqrt\n",
    "\n",
    "def predict(coef, history):\n",
    "    yhat = 0.0\n",
    "    for i in range(1, len(coef)+1):\n",
    "        yhat += coef[i-1] * history[-i]\n",
    "    return yhat\n",
    "\n",
    "series = Series.from_csv('daily-minimum-temperatures.csv', header=0)\n",
    "X = series.values\n",
    "\n",
    "size = len(X) - 7\n",
    "train, test = X[0:size], X[size:]\n",
    "history = [x for x in train]\n",
    "\n",
    "predictions = list()\n",
    "for t in range(len(test)):\n",
    "    model = ARIMA(history, order=(1,0,0))\n",
    "    model_fit = model.fit(trend='nc', disp=False)\n",
    "    ar_coef = model_fit.arparams\n",
    "    yhat = predict(ar_coef, history)\n",
    "    predictions.append(yhat)\n",
    "    obs = test[t]\n",
    "    history.append(obs)\n",
    "    print('>predicted=%.3f, expected=%.3f' % (yhat, obs))\n",
    "    \n",
    "rmse = sqrt(mean_squared_error(test, predictions))\n",
    "print('Test RMSE: %.3f' % rmse)"
   ]
  },
  {
   "cell_type": "markdown",
   "metadata": {},
   "source": [
    "# Moving Average Model (MA)"
   ]
  },
  {
   "cell_type": "code",
   "execution_count": 2,
   "metadata": {},
   "outputs": [
    {
     "name": "stderr",
     "output_type": "stream",
     "text": [
      "C:\\Users\\Astra\\Anaconda3\\envs\\tf_gpu\\lib\\site-packages\\pandas\\core\\series.py:3727: FutureWarning: from_csv is deprecated. Please use read_csv(...) instead. Note that some of the default arguments are different, so please refer to the documentation for from_csv when changing your function calls\n",
      "  infer_datetime_format=infer_datetime_format)\n"
     ]
    },
    {
     "name": "stdout",
     "output_type": "stream",
     "text": [
      ">predicted=4.610, expected=12.900\n",
      ">predicted=7.085, expected=14.600\n",
      ">predicted=6.423, expected=14.000\n",
      ">predicted=6.476, expected=13.600\n",
      ">predicted=6.089, expected=13.500\n",
      ">predicted=6.335, expected=15.700\n",
      ">predicted=8.006, expected=13.000\n",
      "Test RMSE: 7.568\n"
     ]
    }
   ],
   "source": [
    "from pandas import Series\n",
    "from matplotlib import pyplot\n",
    "from statsmodels.tsa.arima_model import ARIMA\n",
    "from sklearn.metrics import mean_squared_error\n",
    "from math import sqrt\n",
    "\n",
    "def predict(coef, history):\n",
    "    yhat = 0.0\n",
    "    for i in range(1, len(coef)+1):\n",
    "        yhat += coef[i-1] * history[-i]\n",
    "    return yhat\n",
    "\n",
    "series = Series.from_csv('daily-minimum-temperatures.csv', header=0)\n",
    "X = series.values\n",
    "size = len(X) - 7\n",
    "train, test = X[0:size], X[size:]\n",
    "history = [x for x in train]\n",
    "\n",
    "predictions = list()\n",
    "for t in range(len(test)):\n",
    "    model = ARIMA(history, order=(0,0,1))\n",
    "    model_fit = model.fit(trend='nc', disp=False)\n",
    "    ma_coef = model_fit.maparams\n",
    "    resid = model_fit.resid\n",
    "    yhat = predict(ma_coef, resid)\n",
    "    predictions.append(yhat)\n",
    "    obs = test[t]\n",
    "    history.append(obs)\n",
    "    print('>predicted=%.3f, expected=%.3f' % (yhat, obs))\n",
    "    \n",
    "rmse = sqrt(mean_squared_error(test, predictions))\n",
    "print('Test RMSE: %.3f' % rmse)"
   ]
  },
  {
   "cell_type": "markdown",
   "metadata": {},
   "source": [
    "# Autoregression Moving Average Model (ARMA)"
   ]
  },
  {
   "cell_type": "code",
   "execution_count": 3,
   "metadata": {},
   "outputs": [
    {
     "name": "stderr",
     "output_type": "stream",
     "text": [
      "C:\\Users\\Astra\\Anaconda3\\envs\\tf_gpu\\lib\\site-packages\\pandas\\core\\series.py:3727: FutureWarning: from_csv is deprecated. Please use read_csv(...) instead. Note that some of the default arguments are different, so please refer to the documentation for from_csv when changing your function calls\n",
      "  infer_datetime_format=infer_datetime_format)\n"
     ]
    },
    {
     "name": "stdout",
     "output_type": "stream",
     "text": [
      ">predicted=11.920, expected=12.900\n",
      ">predicted=12.309, expected=14.600\n",
      ">predicted=13.293, expected=14.000\n",
      ">predicted=13.549, expected=13.600\n",
      ">predicted=13.504, expected=13.500\n",
      ">predicted=13.434, expected=15.700\n",
      ">predicted=14.401, expected=13.000\n",
      "Test RMSE: 1.405\n"
     ]
    }
   ],
   "source": [
    "from pandas import Series\n",
    "from matplotlib import pyplot\n",
    "from statsmodels.tsa.arima_model import ARIMA\n",
    "from sklearn.metrics import mean_squared_error\n",
    "from math import sqrt\n",
    "\n",
    "def predict(coef, history):\n",
    "    yhat = 0.0\n",
    "    for i in range(1, len(coef)+1):\n",
    "        yhat += coef[i-1] * history[-i]\n",
    "    return yhat\n",
    "\n",
    "series = Series.from_csv('daily-minimum-temperatures.csv', header=0)\n",
    "X = series.values\n",
    "size = len(X) - 7\n",
    "train, test = X[0:size], X[size:]\n",
    "history = [x for x in train]\n",
    "\n",
    "predictions = list()\n",
    "for t in range(len(test)):\n",
    "    model = ARIMA(history, order=(1,0,1))\n",
    "    model_fit = model.fit(trend='nc', disp=False)\n",
    "    ar_coef, ma_coef = model_fit.arparams, model_fit.maparams\n",
    "    resid = model_fit.resid\n",
    "    yhat = predict(ar_coef, history) + predict(ma_coef, resid)\n",
    "    predictions.append(yhat)\n",
    "    obs = test[t]\n",
    "    history.append(obs)\n",
    "    print('>predicted=%.3f, expected=%.3f' % (yhat, obs))\n",
    "    \n",
    "rmse = sqrt(mean_squared_error(test, predictions))\n",
    "print('Test RMSE: %.3f' % rmse)"
   ]
  },
  {
   "cell_type": "markdown",
   "metadata": {},
   "source": [
    "# Autoregression Integrated Moving Average Model (ARIMA)"
   ]
  },
  {
   "cell_type": "code",
   "execution_count": 4,
   "metadata": {},
   "outputs": [
    {
     "name": "stderr",
     "output_type": "stream",
     "text": [
      "C:\\Users\\Astra\\Anaconda3\\envs\\tf_gpu\\lib\\site-packages\\pandas\\core\\series.py:3727: FutureWarning: from_csv is deprecated. Please use read_csv(...) instead. Note that some of the default arguments are different, so please refer to the documentation for from_csv when changing your function calls\n",
      "  infer_datetime_format=infer_datetime_format)\n"
     ]
    },
    {
     "name": "stdout",
     "output_type": "stream",
     "text": [
      ">predicted=11.837, expected=12.900\n",
      ">predicted=13.265, expected=14.600\n",
      ">predicted=14.159, expected=14.000\n",
      ">predicted=13.868, expected=13.600\n",
      ">predicted=13.662, expected=13.500\n",
      ">predicted=13.603, expected=15.700\n",
      ">predicted=14.788, expected=13.000\n",
      "Test RMSE: 1.232\n"
     ]
    }
   ],
   "source": [
    "from pandas import Series\n",
    "from matplotlib import pyplot\n",
    "from statsmodels.tsa.arima_model import ARIMA\n",
    "from sklearn.metrics import mean_squared_error\n",
    "from math import sqrt\n",
    "import numpy\n",
    "\n",
    "def predict(coef, history):\n",
    "    yhat = 0.0\n",
    "    for i in range(1, len(coef)+1):\n",
    "        yhat += coef[i-1] * history[-i]\n",
    "    return yhat\n",
    "\n",
    "def difference(dataset):\n",
    "    diff = list()\n",
    "    for i in range(1, len(dataset)):\n",
    "        value = dataset[i] - dataset[i - 1]\n",
    "        diff.append(value)\n",
    "    return numpy.array(diff)\n",
    "\n",
    "series = Series.from_csv('daily-minimum-temperatures.csv', header=0)\n",
    "X = series.values\n",
    "size = len(X) - 7\n",
    "train, test = X[0:size], X[size:]\n",
    "history = [x for x in train]\n",
    "\n",
    "predictions = list()\n",
    "for t in range(len(test)):\n",
    "    model = ARIMA(history, order=(1,1,1))\n",
    "    model_fit = model.fit(trend='nc', disp=False)\n",
    "    ar_coef, ma_coef = model_fit.arparams, model_fit.maparams\n",
    "    resid = model_fit.resid\n",
    "    diff = difference(history)\n",
    "    yhat = history[-1] + predict(ar_coef, diff) + predict(ma_coef, resid)\n",
    "    predictions.append(yhat)\n",
    "    obs = test[t]\n",
    "    history.append(obs)\n",
    "    print('>predicted=%.3f, expected=%.3f' % (yhat, obs))\n",
    "    \n",
    "rmse = sqrt(mean_squared_error(test, predictions))\n",
    "print('Test RMSE: %.3f' % rmse)"
   ]
  }
 ],
 "metadata": {
  "kernelspec": {
   "display_name": "Python 3",
   "language": "python",
   "name": "python3"
  },
  "language_info": {
   "codemirror_mode": {
    "name": "ipython",
    "version": 3
   },
   "file_extension": ".py",
   "mimetype": "text/x-python",
   "name": "python",
   "nbconvert_exporter": "python",
   "pygments_lexer": "ipython3",
   "version": "3.6.7"
  }
 },
 "nbformat": 4,
 "nbformat_minor": 2
}
