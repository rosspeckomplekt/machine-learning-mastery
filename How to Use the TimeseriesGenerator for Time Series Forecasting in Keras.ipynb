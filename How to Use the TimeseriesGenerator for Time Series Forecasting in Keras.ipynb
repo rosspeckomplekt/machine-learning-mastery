{
 "cells": [
  {
   "cell_type": "markdown",
   "metadata": {},
   "source": [
    "# TimeseriesGenerator intro"
   ]
  },
  {
   "cell_type": "code",
   "execution_count": 28,
   "metadata": {},
   "outputs": [],
   "source": [
    "# univariate one step problem\n",
    "from numpy import array\n",
    "import tensorflow as tf\n",
    "from tensorflow import keras\n",
    "from tensorflow.keras.preprocessing.sequence import TimeseriesGenerator"
   ]
  },
  {
   "cell_type": "code",
   "execution_count": 29,
   "metadata": {},
   "outputs": [
    {
     "name": "stdout",
     "output_type": "stream",
     "text": [
      "Samples: 8\n",
      "[[1. 2.]] => [3.]\n",
      "[[2. 3.]] => [4.]\n",
      "[[3. 4.]] => [5.]\n",
      "[[4. 5.]] => [6.]\n",
      "[[5. 6.]] => [7.]\n",
      "[[6. 7.]] => [8.]\n",
      "[[7. 8.]] => [9.]\n",
      "[[8. 9.]] => [10.]\n"
     ]
    }
   ],
   "source": [
    "# define dataset\n",
    "series = array([1, 2, 3, 4, 5, 6, 7, 8, 9, 10])\n",
    "\n",
    "# define generator\n",
    "n_input = 2\n",
    "generator = TimeseriesGenerator(series, series, length=n_input, batch_size=1)\n",
    "\n",
    "# number of samples\n",
    "print('Samples: %d' % len(generator))\n",
    "\n",
    "# print each sample\n",
    "for i in range(len(generator)):\n",
    "    x, y = generator[i]\n",
    "    print('%s => %s' % (x, y))"
   ]
  },
  {
   "cell_type": "markdown",
   "metadata": {},
   "source": [
    "# Multilayer Perceptron (MLP)"
   ]
  },
  {
   "cell_type": "code",
   "execution_count": 30,
   "metadata": {},
   "outputs": [],
   "source": [
    "# define generator\n",
    "n_input = 2\n",
    "generator = TimeseriesGenerator(series, series, length=n_input, batch_size=8)"
   ]
  },
  {
   "cell_type": "code",
   "execution_count": 31,
   "metadata": {},
   "outputs": [
    {
     "name": "stdout",
     "output_type": "stream",
     "text": [
      "[[11.4589405]]\n"
     ]
    }
   ],
   "source": [
    "# univariate one step problem with mlp\n",
    "from numpy import array\n",
    "from tensorflow.keras.models import Sequential\n",
    "from tensorflow.keras.layers import Dense\n",
    "from tensorflow.keras.preprocessing.sequence import TimeseriesGenerator\n",
    "\n",
    "# define dataset\n",
    "series = array([1, 2, 3, 4, 5, 6, 7, 8, 9, 10])\n",
    "\n",
    "# define generator\n",
    "n_input = 2\n",
    "generator = TimeseriesGenerator(series, series, length=n_input, batch_size=8)\n",
    "\n",
    "# define model\n",
    "model = Sequential()\n",
    "model.add(Dense(100, activation='relu', input_dim=n_input))\n",
    "model.add(Dense(1))\n",
    "model.compile(optimizer='adam', loss='mse')\n",
    "\n",
    "# fit model\n",
    "model.fit_generator(generator, steps_per_epoch=1, epochs=200, verbose=0)\n",
    "\n",
    "# make a one step prediction out of sample\n",
    "x_input = array([9, 10]).reshape((1, n_input))\n",
    "yhat = model.predict(x_input, verbose=0)\n",
    "print(yhat)"
   ]
  },
  {
   "cell_type": "markdown",
   "metadata": {},
   "source": [
    "# LSTM"
   ]
  },
  {
   "cell_type": "code",
   "execution_count": 32,
   "metadata": {},
   "outputs": [
    {
     "name": "stdout",
     "output_type": "stream",
     "text": [
      "[[10.716624]]\n"
     ]
    }
   ],
   "source": [
    "from tensorflow.keras.layers import LSTM\n",
    "\n",
    "# define dataset\n",
    "series = array([1, 2, 3, 4, 5, 6, 7, 8, 9, 10])\n",
    "\n",
    "# reshape to [10, 1]\n",
    "n_features = 1\n",
    "series = series.reshape((len(series), n_features))\n",
    "\n",
    "# define generator\n",
    "n_input = 2\n",
    "generator = TimeseriesGenerator(series, series, length=n_input, batch_size=8)\n",
    "\n",
    "# define model\n",
    "model = Sequential()\n",
    "model.add(LSTM(100, activation='relu', input_shape=(n_input, n_features)))\n",
    "model.add(Dense(1))\n",
    "model.compile(optimizer='adam', loss='mse')\n",
    "\n",
    "# fit model\n",
    "model.fit_generator(generator, steps_per_epoch=1, epochs=500, verbose=0)\n",
    "\n",
    "# make a one step prediction out of sample\n",
    "x_input = array([9, 10]).reshape((1, n_input, n_features))\n",
    "yhat = model.predict(x_input, verbose=0)\n",
    "print(yhat)"
   ]
  },
  {
   "cell_type": "markdown",
   "metadata": {},
   "source": [
    "# Multivariate Time Series Example"
   ]
  },
  {
   "cell_type": "code",
   "execution_count": 33,
   "metadata": {},
   "outputs": [
    {
     "name": "stdout",
     "output_type": "stream",
     "text": [
      "[[ 10  15]\n",
      " [ 20  25]\n",
      " [ 30  35]\n",
      " [ 40  45]\n",
      " [ 50  55]\n",
      " [ 60  65]\n",
      " [ 70  75]\n",
      " [ 80  85]\n",
      " [ 90  95]\n",
      " [100 105]]\n",
      "Samples: 8\n",
      "[[[10. 15.]\n",
      "  [20. 25.]]] => [[30. 35.]]\n",
      "[[[20. 25.]\n",
      "  [30. 35.]]] => [[40. 45.]]\n",
      "[[[30. 35.]\n",
      "  [40. 45.]]] => [[50. 55.]]\n",
      "[[[40. 45.]\n",
      "  [50. 55.]]] => [[60. 65.]]\n",
      "[[[50. 55.]\n",
      "  [60. 65.]]] => [[70. 75.]]\n",
      "[[[60. 65.]\n",
      "  [70. 75.]]] => [[80. 85.]]\n",
      "[[[70. 75.]\n",
      "  [80. 85.]]] => [[90. 95.]]\n",
      "[[[80. 85.]\n",
      "  [90. 95.]]] => [[100. 105.]]\n"
     ]
    }
   ],
   "source": [
    "from numpy import hstack\n",
    "\n",
    "# define dataset\n",
    "in_seq1 = array([10, 20, 30, 40, 50, 60, 70, 80, 90, 100])\n",
    "in_seq2 = array([15, 25, 35, 45, 55, 65, 75, 85, 95, 105])\n",
    "\n",
    "# reshape series\n",
    "in_seq1 = in_seq1.reshape((len(in_seq1), 1))\n",
    "in_seq2 = in_seq2.reshape((len(in_seq2), 1))\n",
    "\n",
    "# horizontally stack columns\n",
    "dataset = hstack((in_seq1, in_seq2))\n",
    "print(dataset)\n",
    "\n",
    "# define generator\n",
    "n_input = 2\n",
    "generator = TimeseriesGenerator(dataset, dataset, length=n_input, batch_size=1)\n",
    "\n",
    "# number of samples\n",
    "print('Samples: %d' % len(generator))\n",
    "\n",
    "# print each sample\n",
    "for i in range(len(generator)):\n",
    "    x, y = generator[i]\n",
    "    print('%s => %s' % (x, y))"
   ]
  },
  {
   "cell_type": "code",
   "execution_count": 34,
   "metadata": {},
   "outputs": [
    {
     "name": "stdout",
     "output_type": "stream",
     "text": [
      "[[110.45394 115.82713]]\n"
     ]
    }
   ],
   "source": [
    "# define dataset\n",
    "in_seq1 = array([10, 20, 30, 40, 50, 60, 70, 80, 90, 100])\n",
    "in_seq2 = array([15, 25, 35, 45, 55, 65, 75, 85, 95, 105])\n",
    "\n",
    "# reshape series\n",
    "in_seq1 = in_seq1.reshape((len(in_seq1), 1))\n",
    "in_seq2 = in_seq2.reshape((len(in_seq2), 1))\n",
    "\n",
    "# horizontally stack columns\n",
    "dataset = hstack((in_seq1, in_seq2))\n",
    "\n",
    "# define generator\n",
    "n_features = dataset.shape[1]\n",
    "n_input = 2\n",
    "generator = TimeseriesGenerator(dataset, dataset, length=n_input, batch_size=8)\n",
    "\n",
    "# define model\n",
    "model = Sequential()\n",
    "model.add(LSTM(100, activation='relu', input_shape=(n_input, n_features)))\n",
    "model.add(Dense(2))\n",
    "model.compile(optimizer='adam', loss='mse')\n",
    "\n",
    "# fit model\n",
    "model.fit_generator(generator, steps_per_epoch=1, epochs=500, verbose=0)\n",
    "\n",
    "# make a one step prediction out of sample\n",
    "x_input = array([[90, 95], [100, 105]]).reshape((1, n_input, n_features))\n",
    "yhat = model.predict(x_input, verbose=0)\n",
    "print(yhat)"
   ]
  },
  {
   "cell_type": "markdown",
   "metadata": {},
   "source": [
    "# Multivariate Inputs and Dependent Series Example"
   ]
  },
  {
   "cell_type": "code",
   "execution_count": 35,
   "metadata": {},
   "outputs": [
    {
     "name": "stdout",
     "output_type": "stream",
     "text": [
      "[[[10. 15.]]] => [25.]\n",
      "[[[20. 25.]]] => [45.]\n",
      "[[[30. 35.]]] => [65.]\n",
      "[[[40. 45.]]] => [85.]\n",
      "[[[50. 55.]]] => [105.]\n",
      "[[[60. 65.]]] => [125.]\n",
      "[[[70. 75.]]] => [145.]\n",
      "[[[80. 85.]]] => [165.]\n",
      "[[[90. 95.]]] => [185.]\n"
     ]
    }
   ],
   "source": [
    "from numpy import insert\n",
    "\n",
    "# define dataset\n",
    "in_seq1 = array([10, 20, 30, 40, 50, 60, 70, 80, 90, 100])\n",
    "in_seq2 = array([15, 25, 35, 45, 55, 65, 75, 85, 95, 105])\n",
    "out_seq = array([25, 45, 65, 85, 105, 125, 145, 165, 185, 205])\n",
    "\n",
    "# reshape series\n",
    "in_seq1 = in_seq1.reshape((len(in_seq1), 1))\n",
    "in_seq2 = in_seq2.reshape((len(in_seq2), 1))\n",
    "out_seq = out_seq.reshape((len(out_seq), 1))\n",
    "out_seq.shape\n",
    "\n",
    "# horizontally stack columns\n",
    "dataset = hstack((in_seq1, in_seq2))\n",
    "\n",
    "# shift the target sample by one step\n",
    "out_seq = insert(out_seq, 0, 0)\n",
    "out_seq = out_seq[0:-1]\n",
    "\n",
    "# define generator\n",
    "n_input = 1\n",
    "generator = TimeseriesGenerator(dataset, out_seq, length=n_input, batch_size=1)\n",
    "\n",
    "# print each sample\n",
    "for i in range(len(generator)):\n",
    "    x, y = generator[i]\n",
    "    print('%s => %s' % (x, y))"
   ]
  },
  {
   "cell_type": "markdown",
   "metadata": {},
   "source": [
    "# Multi-step Forecasts Example"
   ]
  },
  {
   "cell_type": "code",
   "execution_count": 36,
   "metadata": {},
   "outputs": [
    {
     "name": "stdout",
     "output_type": "stream",
     "text": [
      "[[1. 2.]] => [[3. 4.]]\n",
      "[[2. 3.]] => [[4. 5.]]\n",
      "[[3. 4.]] => [[5. 6.]]\n",
      "[[4. 5.]] => [[6. 7.]]\n",
      "[[5. 6.]] => [[7. 8.]]\n",
      "[[6. 7.]] => [[8. 9.]]\n",
      "[[7. 8.]] => [[ 9. 10.]]\n",
      "[[8. 9.]] => [[10. 11.]]\n"
     ]
    }
   ],
   "source": [
    "# define dataset\n",
    "series = array([1, 2, 3, 4, 5, 6, 7, 8, 9, 10])\n",
    "target = array([[1,2],[2,3],[3,4],[4,5],[5,6],[6,7],[7,8],[8,9],[9,10],[10,11]])\n",
    "\n",
    "# define generator\n",
    "n_input = 2\n",
    "generator = TimeseriesGenerator(series, target, length=n_input, batch_size=1)\n",
    "\n",
    "# print each sample\n",
    "for i in range(len(generator)):\n",
    "    x, y = generator[i]\n",
    "    print('%s => %s' % (x, y))"
   ]
  }
 ],
 "metadata": {
  "kernelspec": {
   "display_name": "Python 3",
   "language": "python",
   "name": "python3"
  },
  "language_info": {
   "codemirror_mode": {
    "name": "ipython",
    "version": 3
   },
   "file_extension": ".py",
   "mimetype": "text/x-python",
   "name": "python",
   "nbconvert_exporter": "python",
   "pygments_lexer": "ipython3",
   "version": "3.6.7"
  }
 },
 "nbformat": 4,
 "nbformat_minor": 2
}
