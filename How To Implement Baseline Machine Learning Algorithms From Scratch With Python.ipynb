{
 "cells": [
  {
   "cell_type": "markdown",
   "metadata": {},
   "source": [
    "# 1. Random Prediction Algorithm"
   ]
  },
  {
   "cell_type": "code",
   "execution_count": 2,
   "metadata": {},
   "outputs": [
    {
     "name": "stdout",
     "output_type": "stream",
     "text": [
      "[0, 0, 1, 0]\n"
     ]
    }
   ],
   "source": [
    "from random import seed\n",
    "from random import randrange\n",
    "\n",
    "# Generate random predictions\n",
    "def random_algorithm(train, test):\n",
    "    output_values = [row[-1] for row in train]\n",
    "    unique = list(set(output_values))\n",
    "    predicted = list()\n",
    "    for row in test:\n",
    "        index = randrange(len(unique))\n",
    "        predicted.append(unique[index])\n",
    "    return predicted\n",
    "\n",
    "seed(1)\n",
    "train = [[0], [1], [0], [1], [0], [1]]\n",
    "test = [[None], [None], [None], [None]]\n",
    "predictions = random_algorithm(train, test)\n",
    "print(predictions)"
   ]
  },
  {
   "cell_type": "markdown",
   "metadata": {},
   "source": [
    "# 2. Zero Rule Algorithm for Classification"
   ]
  },
  {
   "cell_type": "code",
   "execution_count": 3,
   "metadata": {},
   "outputs": [
    {
     "name": "stdout",
     "output_type": "stream",
     "text": [
      "['0', '0', '0', '0', '0', '0']\n"
     ]
    }
   ],
   "source": [
    "from random import seed\n",
    "from random import randrange\n",
    "\n",
    "# zero rule algorithm for classification\n",
    "def zero_rule_algorithm_classification(train, test):\n",
    "    output_values = [row[-1] for row in train]\n",
    "    prediction = max(set(output_values), key=output_values.count)\n",
    "    predicted = [prediction for i in range(len(train))]\n",
    "    return predicted\n",
    "\n",
    "seed(1)\n",
    "train = [['0'], ['0'], ['0'], ['0'], ['1'], ['1']]\n",
    "test = [[None], [None], [None], [None]]\n",
    "predictions = zero_rule_algorithm_classification(train, test)\n",
    "print(predictions)"
   ]
  },
  {
   "cell_type": "markdown",
   "metadata": {},
   "source": [
    "# 3. Zero Rule Algorithm for Regression"
   ]
  },
  {
   "cell_type": "code",
   "execution_count": 4,
   "metadata": {},
   "outputs": [
    {
     "name": "stdout",
     "output_type": "stream",
     "text": [
      "[15.0, 15.0, 15.0, 15.0]\n"
     ]
    }
   ],
   "source": [
    "from random import seed\n",
    "from random import randrange\n",
    "\n",
    "# zero rule algorithm for regression\n",
    "def zero_rule_algorithm_regression(train, test):\n",
    "    output_values = [row[-1] for row in train]\n",
    "    prediction = sum(output_values) / float(len(output_values))\n",
    "    predicted = [prediction for i in range(len(test))]\n",
    "    return predicted\n",
    "\n",
    "seed(1)\n",
    "train = [[10], [15], [12], [15], [18], [20]]\n",
    "test = [[None], [None], [None], [None]]\n",
    "predictions = zero_rule_algorithm_regression(train, test)\n",
    "print(predictions)"
   ]
  }
 ],
 "metadata": {
  "kernelspec": {
   "display_name": "Python 3",
   "language": "python",
   "name": "python3"
  },
  "language_info": {
   "codemirror_mode": {
    "name": "ipython",
    "version": 3
   },
   "file_extension": ".py",
   "mimetype": "text/x-python",
   "name": "python",
   "nbconvert_exporter": "python",
   "pygments_lexer": "ipython3",
   "version": "3.6.7"
  }
 },
 "nbformat": 4,
 "nbformat_minor": 2
}
