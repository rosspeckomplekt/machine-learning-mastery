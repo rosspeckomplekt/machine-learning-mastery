{
 "cells": [
  {
   "cell_type": "code",
   "execution_count": 11,
   "metadata": {},
   "outputs": [
    {
     "name": "stdout",
     "output_type": "stream",
     "text": [
      "Date\n",
      "1981-01-01    20.7\n",
      "1981-01-02    17.9\n",
      "1981-01-03    18.8\n",
      "1981-01-04    14.6\n",
      "1981-01-05    15.8\n",
      "1981-01-06    15.8\n",
      "1981-01-07    15.8\n",
      "1981-01-08    17.4\n",
      "1981-01-09    21.8\n",
      "1981-01-10    20.0\n",
      "1981-01-11    16.2\n",
      "1981-01-12    13.3\n",
      "1981-01-13    16.7\n",
      "1981-01-14    21.5\n",
      "1981-01-15    25.0\n",
      "1981-01-16    20.7\n",
      "1981-01-17    20.6\n",
      "1981-01-18    24.8\n",
      "1981-01-19    17.7\n",
      "1981-01-20    15.5\n",
      "Name: Daily minimum temperatures in Melbourne, Australia, 1981-1990, dtype: float64\n"
     ]
    },
    {
     "data": {
      "image/png": "[encoded data removed]",
      "text/plain": [
       "<Figure size 432x288 with 1 Axes>"
      ]
     },
     "metadata": {
      "needs_background": "light"
     },
     "output_type": "display_data"
    }
   ],
   "source": [
    "# line plot of time series\n",
    "from pandas import Series\n",
    "from matplotlib import pyplot\n",
    "\n",
    "# load dataset\n",
    "series = Series.from_csv('daily-minimum-temperatures.csv', header=0)\n",
    "\n",
    "# display first few rows\n",
    "print(series.head(20))\n",
    "\n",
    "# line plot of dataset\n",
    "series.plot();"
   ]
  },
  {
   "cell_type": "code",
   "execution_count": 12,
   "metadata": {},
   "outputs": [
    {
     "name": "stdout",
     "output_type": "stream",
     "text": [
      "Dataset 3643, Validation 7\n"
     ]
    }
   ],
   "source": [
    "# split the dataset\n",
    "from pandas import Series\n",
    "\n",
    "series = Series.from_csv('daily-minimum-temperatures.csv', header=0)\n",
    "\n",
    "split_point = len(series) - 7\n",
    "\n",
    "dataset, validation = series[0:split_point], series[split_point:]\n",
    "\n",
    "print('Dataset %d, Validation %d' % (len(dataset), len(validation)))\n",
    "\n",
    "dataset.to_csv('dataset.csv')\n",
    "validation.to_csv('validation.csv')"
   ]
  },
  {
   "cell_type": "code",
   "execution_count": 13,
   "metadata": {},
   "outputs": [],
   "source": [
    "# create a differenced series\n",
    "def difference(dataset, interval=1):\n",
    "    diff = list()\n",
    "    for i in range(interval, len(dataset)):\n",
    "        value = dataset[i] - dataset[i - interval]\n",
    "        diff.append(value)\n",
    "    return numpy.array(diff)"
   ]
  },
  {
   "cell_type": "code",
   "execution_count": 14,
   "metadata": {},
   "outputs": [],
   "source": [
    "# invert differenced value\n",
    "def inverse_difference(history, yhat, interval=1):\n",
    "    return yhat + history[-interval]"
   ]
  },
  {
   "cell_type": "code",
   "execution_count": 15,
   "metadata": {},
   "outputs": [
    {
     "name": "stdout",
     "output_type": "stream",
     "text": [
      "                              ARMA Model Results                              \n",
      "==============================================================================\n",
      "Dep. Variable:                      y   No. Observations:                 3278\n",
      "Model:                     ARMA(7, 1)   Log Likelihood               -8673.748\n",
      "Method:                       css-mle   S.D. of innovations              3.411\n",
      "Date:                Wed, 02 Jan 2019   AIC                          17367.497\n",
      "Time:                        22:09:34   BIC                          17428.447\n",
      "Sample:                             0   HQIC                         17389.322\n",
      "                                                                              \n",
      "==============================================================================\n",
      "                 coef    std err          z      P>|z|      [0.025      0.975]\n",
      "------------------------------------------------------------------------------\n",
      "const          0.0132      0.132      0.100      0.921      -0.246       0.273\n",
      "ar.L1.y        1.1424      0.287      3.976      0.000       0.579       1.706\n",
      "ar.L2.y       -0.4346      0.154     -2.829      0.005      -0.736      -0.133\n",
      "ar.L3.y        0.0961      0.042      2.289      0.022       0.014       0.178\n",
      "ar.L4.y        0.0125      0.029      0.434      0.664      -0.044       0.069\n",
      "ar.L5.y       -0.0101      0.029     -0.343      0.732      -0.068       0.047\n",
      "ar.L6.y        0.0119      0.027      0.448      0.654      -0.040       0.064\n",
      "ar.L7.y        0.0089      0.024      0.368      0.713      -0.038       0.056\n",
      "ma.L1.y       -0.6157      0.287     -2.146      0.032      -1.178      -0.053\n",
      "                                    Roots                                    \n",
      "=============================================================================\n",
      "                  Real          Imaginary           Modulus         Frequency\n",
      "-----------------------------------------------------------------------------\n",
      "AR.1            1.2234           -0.0000j            1.2234           -0.0000\n",
      "AR.2            1.2561           -1.0676j            1.6485           -0.1121\n",
      "AR.3            1.2561           +1.0676j            1.6485            0.1121\n",
      "AR.4            0.0349           -2.0159j            2.0162           -0.2472\n",
      "AR.5            0.0349           +2.0159j            2.0162            0.2472\n",
      "AR.6           -2.5769           -1.3110j            2.8912           -0.4251\n",
      "AR.7           -2.5769           +1.3110j            2.8912            0.4251\n",
      "MA.1            1.6242           +0.0000j            1.6242            0.0000\n",
      "-----------------------------------------------------------------------------\n"
     ]
    }
   ],
   "source": [
    "from pandas import Series\n",
    "from statsmodels.tsa.arima_model import ARIMA\n",
    "import numpy\n",
    "\n",
    "# load dataset\n",
    "series = Series.from_csv('dataset.csv', header=None)\n",
    "\n",
    "# seasonal difference\n",
    "X = series.values\n",
    "days_in_year = 365\n",
    "differenced = difference(X, days_in_year)\n",
    "\n",
    "# fit model\n",
    "model = ARIMA(differenced, order=(7,0,1))\n",
    "model_fit = model.fit(disp=0)\n",
    "\n",
    "# print summary of fit model\n",
    "print(model_fit.summary())"
   ]
  },
  {
   "cell_type": "markdown",
   "metadata": {},
   "source": [
    "# 4. One-Step Out-of-Sample Forecast"
   ]
  },
  {
   "cell_type": "code",
   "execution_count": 16,
   "metadata": {},
   "outputs": [
    {
     "name": "stdout",
     "output_type": "stream",
     "text": [
      "Forecast: 14.861671\n"
     ]
    }
   ],
   "source": [
    "from pandas import Series\n",
    "from statsmodels.tsa.arima_model import ARIMA\n",
    "import numpy\n",
    "\n",
    "# load dataset\n",
    "series = Series.from_csv('dataset.csv', header=None)\n",
    "\n",
    "# seasonal difference\n",
    "X = series.values\n",
    "days_in_year = 365\n",
    "differenced = difference(X, days_in_year)\n",
    "\n",
    "# fit model\n",
    "model = ARIMA(differenced, order=(7,0,1))\n",
    "model_fit = model.fit(disp=0)\n",
    "\n",
    "# one-step out-of sample forecast\n",
    "forecast = model_fit.forecast()[0]\n",
    "\n",
    "# invert the differenced forecast to something usable\n",
    "forecast = inverse_difference(X, forecast, days_in_year)\n",
    "print('Forecast: %f' % forecast)"
   ]
  },
  {
   "cell_type": "code",
   "execution_count": 17,
   "metadata": {},
   "outputs": [
    {
     "name": "stdout",
     "output_type": "stream",
     "text": [
      "Forecast: 14.861671\n"
     ]
    }
   ],
   "source": [
    "from pandas import Series\n",
    "from statsmodels.tsa.arima_model import ARIMA\n",
    "import numpy\n",
    "from pandas import datetime\n",
    "\n",
    "# load dataset\n",
    "series = Series.from_csv('dataset.csv', header=None)\n",
    "\n",
    "# seasonal difference\n",
    "X = series.values\n",
    "days_in_year = 365\n",
    "differenced = difference(X, days_in_year)\n",
    "\n",
    "# fit model\n",
    "model = ARIMA(differenced, order=(7,0,1))\n",
    "model_fit = model.fit(disp=0)\n",
    "\n",
    "# one-step out of sample forecast\n",
    "start_index = len(differenced)\n",
    "end_index = len(differenced)\n",
    "forecast = model_fit.predict(start=start_index, end=end_index)\n",
    "\n",
    "# invert the differenced forecast to something usable\n",
    "forecast = inverse_difference(X, forecast, days_in_year)\n",
    "print('Forecast: %f' % forecast)"
   ]
  },
  {
   "cell_type": "markdown",
   "metadata": {},
   "source": [
    "# 5. Multi-Step Out-of-Sample Forecast"
   ]
  },
  {
   "cell_type": "code",
   "execution_count": 18,
   "metadata": {},
   "outputs": [
    {
     "name": "stdout",
     "output_type": "stream",
     "text": [
      "Day 1: 14.861671\n",
      "Day 2: 15.628785\n",
      "Day 3: 13.331351\n",
      "Day 4: 11.722416\n",
      "Day 5: 10.421526\n",
      "Day 6: 14.415552\n",
      "Day 7: 12.674713\n"
     ]
    }
   ],
   "source": [
    "from pandas import Series\n",
    "from statsmodels.tsa.arima_model import ARIMA\n",
    "import numpy\n",
    "\n",
    "# load dataset\n",
    "series = Series.from_csv('dataset.csv', header=None)\n",
    "\n",
    "# seasonal difference\n",
    "X = series.values\n",
    "days_in_year = 365\n",
    "differenced = difference(X, days_in_year)\n",
    "\n",
    "# fit model\n",
    "model = ARIMA(differenced, order=(7,0,1))\n",
    "model_fit = model.fit(disp=0)\n",
    "\n",
    "# multi-step out-of-sample forecast\n",
    "forecast = model_fit.forecast(steps=7)[0]\n",
    "\n",
    "# invert the differenced forecast to something usable\n",
    "history = [x for x in X]\n",
    "day = 1\n",
    "for yhat in forecast:\n",
    "    inverted = inverse_difference(history, yhat, days_in_year)\n",
    "    print('Day %d: %f' % (day, inverted))\n",
    "    history.append(inverted)\n",
    "    day += 1"
   ]
  },
  {
   "cell_type": "code",
   "execution_count": 19,
   "metadata": {},
   "outputs": [
    {
     "name": "stdout",
     "output_type": "stream",
     "text": [
      "Day 1: 14.861671\n",
      "Day 2: 15.628785\n",
      "Day 3: 13.331351\n",
      "Day 4: 11.722416\n",
      "Day 5: 10.421526\n",
      "Day 6: 14.415552\n",
      "Day 7: 12.674713\n"
     ]
    }
   ],
   "source": [
    "from pandas import Series\n",
    "from statsmodels.tsa.arima_model import ARIMA\n",
    "import numpy\n",
    "\n",
    "# load dataset\n",
    "series = Series.from_csv('dataset.csv', header=None)\n",
    "\n",
    "# seasonal difference\n",
    "X = series.values\n",
    "days_in_year = 365\n",
    "differenced = difference(X, days_in_year)\n",
    "\n",
    "# fit model\n",
    "model = ARIMA(differenced, order=(7,0,1))\n",
    "model_fit = model.fit(disp=0)\n",
    "\n",
    "# multi-step out-of-sample forecast\n",
    "start_index = len(differenced)\n",
    "end_index = start_index + 6\n",
    "forecast = model_fit.predict(start=start_index, end=end_index)\n",
    "\n",
    "# invert the differenced forecast to something usable\n",
    "history = [x for x in X]\n",
    "day = 1\n",
    "for yhat in forecast:\n",
    "    inverted = inverse_difference(history, yhat, days_in_year)\n",
    "    print('Day %d: %f' % (day, inverted))\n",
    "    history.append(inverted)\n",
    "    day += 1"
   ]
  }
 ],
 "metadata": {
  "kernelspec": {
   "display_name": "Python 3",
   "language": "python",
   "name": "python3"
  },
  "language_info": {
   "codemirror_mode": {
    "name": "ipython",
    "version": 3
   },
   "file_extension": ".py",
   "mimetype": "text/x-python",
   "name": "python",
   "nbconvert_exporter": "python",
   "pygments_lexer": "ipython3",
   "version": "3.6.7"
  }
 },
 "nbformat": 4,
 "nbformat_minor": 2
}
